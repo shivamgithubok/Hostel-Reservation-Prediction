{
 "cells": [
  {
   "cell_type": "code",
   "execution_count": 4,
   "id": "7f4cdc01",
   "metadata": {},
   "outputs": [],
   "source": [
    "import pandas as pd\n",
    "import numpy as np\n",
    "import matplotlib.pyplot as plt\n",
    "import seaborn as sns\n",
    "import os"
   ]
  },
  {
   "cell_type": "code",
   "execution_count": null,
   "id": "2f16a1f2",
   "metadata": {},
   "outputs": [],
   "source": [
    "# Suppress warnings (egnoire FutureWarnings)\n",
    "import warnings\n",
    "warnings.filterwarnings(\"ignore\")"
   ]
  },
  {
   "cell_type": "code",
   "execution_count": null,
   "id": "6d04fdbe",
   "metadata": {},
   "outputs": [],
   "source": [
    "df = pd.read_csv('train.csv')\n",
    "df.head()"
   ]
  },
  {
   "cell_type": "code",
   "execution_count": null,
   "id": "7ae3111b",
   "metadata": {},
   "outputs": [],
   "source": [
    "df.columns"
   ]
  },
  {
   "cell_type": "code",
   "execution_count": null,
   "id": "e8ba9881",
   "metadata": {},
   "outputs": [],
   "source": [
    "df.drop(columns=['Unnamed: 0','Booking_ID'],inplace=True)"
   ]
  },
  {
   "cell_type": "code",
   "execution_count": null,
   "id": "3d57727c",
   "metadata": {},
   "outputs": [],
   "source": [
    "df.shape"
   ]
  },
  {
   "cell_type": "code",
   "execution_count": null,
   "id": "60e5dd73",
   "metadata": {},
   "outputs": [],
   "source": [
    "df.isnull().sum()"
   ]
  },
  {
   "cell_type": "code",
   "execution_count": null,
   "id": "14b649ed",
   "metadata": {},
   "outputs": [],
   "source": [
    "df.duplicated().sum()"
   ]
  },
  {
   "cell_type": "code",
   "execution_count": null,
   "id": "0329949c",
   "metadata": {},
   "outputs": [],
   "source": [
    "df.drop_duplicates(inplace=True)"
   ]
  },
  {
   "cell_type": "code",
   "execution_count": null,
   "id": "6a80c9fa",
   "metadata": {},
   "outputs": [],
   "source": [
    "df.shape"
   ]
  },
  {
   "cell_type": "code",
   "execution_count": null,
   "id": "663ac907",
   "metadata": {},
   "outputs": [],
   "source": [
    "df.columns"
   ]
  },
  {
   "cell_type": "code",
   "execution_count": null,
   "id": "074767bb",
   "metadata": {},
   "outputs": [],
   "source": [
    "df[\"no_of_adults\"].value_counts()\n",
    "df[\"no_of_children\"].value_counts()\n",
    "df[\"no_of_weekend_nights\"].value_counts()\n",
    "df[\"type_of_meal_plan\"].value_counts()\n",
    "df[\"room_type_reserved\"].value_counts() \n",
    "df[\"arrival_time\"].value_counts()"
   ]
  },
  {
   "cell_type": "code",
   "execution_count": null,
   "id": "a7112927",
   "metadata": {},
   "outputs": [],
   "source": [
    "### OUR Data is imbaleanced"
   ]
  },
  {
   "cell_type": "code",
   "execution_count": null,
   "id": "c915d48b",
   "metadata": {},
   "outputs": [],
   "source": [
    "cat_cols = ['type_of_meal_plan', 'room_type_reserved','required_car_parking_space','market_segment_type','repeated_guest','booking_status']\n",
    "num_cols = ['no_of_adults', 'no_of_children', 'no_of_weekend_nights', 'no_of_week_nights', 'lead_time','arrival_year', 'arrival_month', 'arrival_date']"
   ]
  },
  {
   "cell_type": "code",
   "execution_count": null,
   "id": "4dda409b",
   "metadata": {},
   "outputs": [],
   "source": [
    "len(cat_cols), len(num_cols)"
   ]
  },
  {
   "cell_type": "code",
   "execution_count": null,
   "id": "6123c2cd",
   "metadata": {},
   "outputs": [],
   "source": [
    "#####Data Analysis"
   ]
  },
  {
   "cell_type": "code",
   "execution_count": null,
   "id": "c79795e6",
   "metadata": {},
   "outputs": [],
   "source": [
    "data = df.copy()"
   ]
  },
  {
   "cell_type": "code",
   "execution_count": null,
   "id": "a37983d7",
   "metadata": {},
   "outputs": [],
   "source": [
    "### univariate analysis"
   ]
  },
  {
   "cell_type": "code",
   "execution_count": null,
   "id": "75ccb1d0",
   "metadata": {},
   "outputs": [],
   "source": [
    "def num_plot_dist(df, num_features):\n",
    "    fig , axes = plt.subplots(len(num_features),2, figsize=(20, len(num_features)*5))\n",
    "    if len(num_features) == 1:\n",
    "        axes = [axes]\n",
    "\n",
    "    for i , column in enumerate(num_features):\n",
    "        sns.histplot(df[column], kde=True, ax=axes[i][0])\n",
    "        axes[i][0].set_title(f'Distribution of {column}')\n",
    "        sns.boxplot(x=df[column], ax=axes[i][1])\n",
    "        axes[i][1].set_title(f'Boxplot of {column}')\n",
    "    plt.tight_layout()\n",
    "    plt.show()"
   ]
  },
  {
   "cell_type": "code",
   "execution_count": null,
   "id": "a17c988f",
   "metadata": {},
   "outputs": [],
   "source": [
    "num_plot_dist(data, num_cols)"
   ]
  },
  {
   "cell_type": "code",
   "execution_count": null,
   "id": "d0bf7726",
   "metadata": {},
   "outputs": [],
   "source": [
    "for cat_feature in cat_cols:\n",
    "    plt.figure(figsize=(10, 5))\n",
    "    # data[cat_feature].value_counts().plot(kind='bar', color='skyblue')\n",
    "    sns.countplot(x=cat_feature, data=data)\n",
    "    plt.title(f'Count plot of {cat_feature}')\n",
    "    plt.xticks(rotation=45)\n",
    "    plt.show()"
   ]
  },
  {
   "cell_type": "code",
   "execution_count": null,
   "id": "b6307a84",
   "metadata": {},
   "outputs": [],
   "source": [
    "###Bivariate analysis########"
   ]
  },
  {
   "cell_type": "code",
   "execution_count": null,
   "id": "19e893b9",
   "metadata": {},
   "outputs": [],
   "source": [
    "def plot_bivariate_num(df, num_features, target_feature):\n",
    "    num_plots = len(num_features)\n",
    "    num_rows = (num_plots + 1) // 2\n",
    "\n",
    "    fig, axes = plt.subplots(num_rows, 2, figsize=(20, num_rows * 5))\n",
    "    axes = axes.flatten() if num_rows > 1 else [axes]\n",
    "\n",
    "    for i , column in enumerate(num_features):\n",
    "        sns.boxplot(x=target_feature, y=column, data=df, ax=axes[i])\n",
    "        axes[i].set_title(f'Boxplot of {column} by {target_feature}')\n",
    "        axes[i].set_xlabel(target_feature)\n",
    "        axes[i].set_ylabel(column)\n",
    "    plt.tight_layout()\n",
    "    plt.show()"
   ]
  },
  {
   "cell_type": "code",
   "execution_count": null,
   "id": "c256d40a",
   "metadata": {},
   "outputs": [],
   "source": [
    "plot_bivariate_num(data, num_cols, 'booking_status')"
   ]
  },
  {
   "cell_type": "code",
   "execution_count": null,
   "id": "5c9b3e98",
   "metadata": {},
   "outputs": [],
   "source": [
    "def plot_bivariate_cat(df, cat_features, target_feature):\n",
    "    num_plots = len(cat_features)\n",
    "    num_rows = (num_plots + 1) // 2\n",
    "\n",
    "    fig, axes = plt.subplots(num_rows, 2, figsize=(20, num_rows * 5))\n",
    "    axes = axes.flatten() if num_rows > 1 else [axes]\n",
    "\n",
    "    for i , column in enumerate(cat_features):\n",
    "        sns.countplot(x=column, hue=target_feature, data=df, ax=axes[i])\n",
    "        axes[i].set_title(f'Count plot of {column} by {target_feature}')\n",
    "        axes[i].set_xlabel(column)\n",
    "        axes[i].set_ylabel('Count')\n",
    "    plt.tight_layout()\n",
    "    plt.show()"
   ]
  },
  {
   "cell_type": "code",
   "execution_count": null,
   "id": "21a109a3",
   "metadata": {},
   "outputs": [],
   "source": [
    "#########Data PROCESSING #########"
   ]
  },
  {
   "cell_type": "code",
   "execution_count": null,
   "id": "f780c22b",
   "metadata": {},
   "outputs": [],
   "source": [
    "df.info()"
   ]
  },
  {
   "cell_type": "code",
   "execution_count": null,
   "id": "a2d71276",
   "metadata": {},
   "outputs": [],
   "source": [
    "######## Label encoding ###########"
   ]
  },
  {
   "cell_type": "code",
   "execution_count": null,
   "id": "d441c8df",
   "metadata": {},
   "outputs": [],
   "source": [
    "from sklearn.preprocessing import LabelEncoder"
   ]
  },
  {
   "cell_type": "code",
   "execution_count": null,
   "id": "08c5336a",
   "metadata": {},
   "outputs": [],
   "source": [
    "### Data type is object to we apply label encoding to conver to integer type"
   ]
  },
  {
   "cell_type": "code",
   "execution_count": null,
   "id": "b15ef825",
   "metadata": {},
   "outputs": [],
   "source": [
    "labe_encoder = LabelEncoder()\n",
    "\n",
    "mapping = {}\n",
    "for col in cat_cols:\n",
    "    df[col] = labe_encoder.fit_transform(df[col])\n",
    "    mapping[col] = {label:code for label,code in zip(labe_encoder.classes_, labe_encoder.transform(labe_encoder.classes_))}"
   ]
  },
  {
   "cell_type": "code",
   "execution_count": null,
   "id": "b4db6887",
   "metadata": {},
   "outputs": [],
   "source": [
    "for label, code in mapping.items():\n",
    "    print(f\"{label}: {code}\")"
   ]
  },
  {
   "cell_type": "code",
   "execution_count": null,
   "id": "5d1bac4c",
   "metadata": {},
   "outputs": [],
   "source": [
    "df.head()"
   ]
  },
  {
   "cell_type": "code",
   "execution_count": null,
   "id": "60418589",
   "metadata": {},
   "outputs": [],
   "source": [
    "df.info()"
   ]
  },
  {
   "cell_type": "code",
   "execution_count": null,
   "id": "f8d8734c",
   "metadata": {},
   "outputs": [],
   "source": [
    "## Multicollinearity check\n",
    "## multicollineary negatively effect the model performance"
   ]
  },
  {
   "cell_type": "code",
   "execution_count": null,
   "id": "612f6c0f",
   "metadata": {},
   "outputs": [],
   "source": [
    "!pip install statsmodels"
   ]
  },
  {
   "cell_type": "code",
   "execution_count": null,
   "id": "c296f9c8",
   "metadata": {},
   "outputs": [],
   "source": [
    "from statsmodels.stats.outliers_influence import variance_inflation_factor\n",
    "from statsmodels.tools.tools import add_constant"
   ]
  },
  {
   "cell_type": "code",
   "execution_count": null,
   "id": "e3e2a9a4",
   "metadata": {},
   "outputs": [],
   "source": [
    "X = add_constant(df)\n",
    "\n",
    "vif_data = pd.DataFrame()\n",
    "vif_data[\"feature\"] = X.columns #variation inflaction factor\n",
    "vif_data[\"VIF\"] = [variance_inflation_factor(X.values, i) for i in range(X.shape[1])]"
   ]
  },
  {
   "cell_type": "code",
   "execution_count": null,
   "id": "3dfde0d0",
   "metadata": {},
   "outputs": [],
   "source": [
    "## if number in vif is above 5 will say highest muilticollinearity"
   ]
  },
  {
   "cell_type": "code",
   "execution_count": null,
   "id": "006de5f4",
   "metadata": {},
   "outputs": [],
   "source": [
    "## Our data dont have multicollinearity"
   ]
  },
  {
   "cell_type": "code",
   "execution_count": null,
   "id": "21f6f35e",
   "metadata": {},
   "outputs": [],
   "source": [
    "corr = df.corr()"
   ]
  },
  {
   "cell_type": "code",
   "execution_count": null,
   "id": "424ba5e3",
   "metadata": {},
   "outputs": [],
   "source": [
    "sns.heatmap(corr, annot=True, cmap='coolwarm', fmt='.2f')"
   ]
  },
  {
   "cell_type": "code",
   "execution_count": null,
   "id": "0cb29585",
   "metadata": {},
   "outputs": [],
   "source": [
    "#### Skeness"
   ]
  },
  {
   "cell_type": "code",
   "execution_count": null,
   "id": "3506cb7c",
   "metadata": {},
   "outputs": [],
   "source": [
    "skewness = df.skew()"
   ]
  },
  {
   "cell_type": "code",
   "execution_count": null,
   "id": "3c0937c6",
   "metadata": {},
   "outputs": [],
   "source": [
    "skewness"
   ]
  },
  {
   "cell_type": "code",
   "execution_count": null,
   "id": "af9fe100",
   "metadata": {},
   "outputs": [],
   "source": [
    "for col in df.columns:\n",
    "    if skewness[col] > 5:\n",
    "        df[col] = np.log1p(df[col])"
   ]
  },
  {
   "cell_type": "code",
   "execution_count": null,
   "metadata": {},
   "outputs": [],
   "source": [
    "##### Imbalance DAta"
   ]
  },
  {
   "cell_type": "code",
   "execution_count": null,
   "id": "be0f3e46",
   "metadata": {},
   "outputs": [],
   "source": [
    "df['booking_status'].value_counts()"
   ]
  },
  {
   "cell_type": "code",
   "execution_count": null,
   "id": "c89d207d",
   "metadata": {},
   "outputs": [],
   "source": [
    "## methods are:\n",
    "              # 1. under sampling(data reduced)\n",
    "              # 2. over sampling (we go for this one)"
   ]
  },
  {
   "cell_type": "code",
   "execution_count": null,
   "id": "e56badd1",
   "metadata": {},
   "outputs": [],
   "source": [
    "X = df.drop(columns=['booking_status'])\n",
    "y = df['booking_status']"
   ]
  },
  {
   "cell_type": "code",
   "execution_count": null,
   "id": "a6e45363",
   "metadata": {},
   "outputs": [],
   "source": [
    "!pip install imbalanced-learn"
   ]
  },
  {
   "cell_type": "code",
   "execution_count": null,
   "id": "070b4b70",
   "metadata": {},
   "outputs": [],
   "source": [
    "y.value_counts()"
   ]
  },
  {
   "cell_type": "code",
   "execution_count": null,
   "id": "976a5d52",
   "metadata": {},
   "outputs": [],
   "source": [
    "## applying smoth technique\n",
    "from imblearn.over_sampling import SMOTE"
   ]
  },
  {
   "cell_type": "code",
   "execution_count": null,
   "id": "fca209a5",
   "metadata": {},
   "outputs": [],
   "source": [
    "smote = SMOTE(random_state=42)\n",
    "X_res, y_res = smote.fit_resample(X, y)"
   ]
  },
  {
   "cell_type": "code",
   "execution_count": null,
   "id": "aca01608",
   "metadata": {},
   "outputs": [],
   "source": [
    "y_res.value_counts()"
   ]
  },
  {
   "cell_type": "code",
   "execution_count": null,
   "id": "61757671",
   "metadata": {},
   "outputs": [],
   "source": [
    "# pd.Series(y_res)"
   ]
  },
  {
   "cell_type": "code",
   "execution_count": null,
   "id": "63eb10c1",
   "metadata": {},
   "outputs": [],
   "source": [
    "### Create a DataFrame from the resampled data  as it is not ditectly change our old data"
   ]
  },
  {
   "cell_type": "code",
   "execution_count": null,
   "id": "d13975fd",
   "metadata": {},
   "outputs": [],
   "source": [
    "balanced_df = pd.DataFrame(X_res, columns=X.columns)\n",
    "balanced_df['booking_status'] = y_res"
   ]
  },
  {
   "cell_type": "code",
   "execution_count": null,
   "id": "06eb765b",
   "metadata": {},
   "outputs": [],
   "source": [
    "balanced_df.head()"
   ]
  },
  {
   "cell_type": "code",
   "execution_count": null,
   "id": "e78dfbe3",
   "metadata": {},
   "outputs": [],
   "source": [
    "balanced_df.shape"
   ]
  },
  {
   "cell_type": "code",
   "execution_count": null,
   "id": "232263e0",
   "metadata": {},
   "outputs": [],
   "source": [
    "df = balanced_df.copy()"
   ]
  },
  {
   "cell_type": "code",
   "execution_count": null,
   "id": "d04851e1",
   "metadata": {},
   "outputs": [],
   "source": [
    "### Feature Selection "
   ]
  },
  {
   "cell_type": "code",
   "execution_count": null,
   "id": "795a2182",
   "metadata": {},
   "outputs": [],
   "source": [
    "len(df.columns)"
   ]
  },
  {
   "cell_type": "code",
   "execution_count": null,
   "id": "ccf715e7",
   "metadata": {},
   "outputs": [],
   "source": [
    "from sklearn.ensemble import RandomForestClassifier"
   ]
  },
  {
   "cell_type": "code",
   "execution_count": null,
   "id": "c9775626",
   "metadata": {},
   "outputs": [],
   "source": [
    "X = df.drop(columns=['booking_status'])\n",
    "y = df['booking_status']"
   ]
  },
  {
   "cell_type": "code",
   "execution_count": null,
   "id": "72696096",
   "metadata": {},
   "outputs": [],
   "source": [
    "model = RandomForestClassifier(random_state=42)\n",
    "model.fit(X, y)"
   ]
  },
  {
   "cell_type": "code",
   "execution_count": null,
   "id": "558da752",
   "metadata": {},
   "outputs": [],
   "source": [
    "Feature_importance = model.feature_importances_"
   ]
  },
  {
   "cell_type": "code",
   "execution_count": null,
   "id": "98a12ec4",
   "metadata": {},
   "outputs": [],
   "source": [
    "Feature_importance_df = pd.DataFrame({\n",
    "    'Feature': X.columns,\n",
    "    'Importance': Feature_importance\n",
    "})"
   ]
  },
  {
   "cell_type": "code",
   "execution_count": null,
   "id": "2f7a170d",
   "metadata": {},
   "outputs": [],
   "source": [
    "top_feature_importance_df = Feature_importance_df.sort_values(by='Importance', ascending=False, inplace=True)"
   ]
  },
  {
   "cell_type": "code",
   "execution_count": null,
   "id": "95e63d2c",
   "metadata": {},
   "outputs": [],
   "source": [
    "len(df.columns)"
   ]
  },
  {
   "cell_type": "code",
   "execution_count": null,
   "id": "9979df08",
   "metadata": {},
   "outputs": [],
   "source": [
    "top_10_features = top_feature_importance_df['feature'].head(10).values\n",
    "\n",
    "top_10_df = df[top_10_features]"
   ]
  },
  {
   "cell_type": "code",
   "execution_count": null,
   "id": "451e35de",
   "metadata": {},
   "outputs": [],
   "source": [
    "top_10_df.head()"
   ]
  },
  {
   "cell_type": "code",
   "execution_count": null,
   "id": "f234c343",
   "metadata": {},
   "outputs": [],
   "source": [
    "len(top_10_df.columns)"
   ]
  },
  {
   "cell_type": "code",
   "execution_count": null,
   "id": "6323d912",
   "metadata": {},
   "outputs": [],
   "source": [
    "df = top_10_df.copy()"
   ]
  },
  {
   "cell_type": "code",
   "execution_count": null,
   "id": "e30a9d11",
   "metadata": {},
   "outputs": [],
   "source": [
    "# MODEL SELECTION"
   ]
  },
  {
   "cell_type": "code",
   "execution_count": null,
   "id": "218e5b01",
   "metadata": {},
   "outputs": [],
   "source": [
    "!pip install xgboost lightgbm"
   ]
  },
  {
   "cell_type": "code",
   "execution_count": null,
   "id": "2609a082",
   "metadata": {},
   "outputs": [],
   "source": [
    "from sklearn.model_selection import train_test_split\n",
    "from sklearn.ensemble import RandomForestClassifier , GradientBoostingClassifier,AdaBoostClassifier\n",
    "from sklearn.linear_model import LogisticRegression\n",
    "from sklearn.svm import SVC\n",
    "from sklearn.tree import DecisionTreeClassifier\n",
    "from sklearn.naive_bayes import GaussianNB\n",
    "from sklearn.neighbors import KNeighborsClassifier\n",
    "from xgboost import XGBClassifier\n",
    "from lightgbm import LGBMClassifier\n",
    "\n",
    "from sklearn.metrics import accuracy_score, classification_report, confusion_matrix, recall_score, precision_score, f1_score"
   ]
  },
  {
   "cell_type": "code",
   "execution_count": null,
   "id": "7e8123d2",
   "metadata": {},
   "outputs": [],
   "source": [
    "X = df.drop(columns=['booking_status'])\n",
    "y = df['booking_status']"
   ]
  },
  {
   "cell_type": "code",
   "execution_count": null,
   "id": "380777cc",
   "metadata": {},
   "outputs": [],
   "source": [
    "X_train , X_test , y_train,y_test = train_test_split(X, y, test_size=0.2, random_state=42)"
   ]
  },
  {
   "cell_type": "code",
   "execution_count": null,
   "id": "eb569609",
   "metadata": {},
   "outputs": [],
   "source": [
    "classifiers = {\n",
    "    'Random Forest': RandomForestClassifier(random_state=42),\n",
    "    'Gradient Boosting': GradientBoostingClassifier(random_state=42),\n",
    "    'AdaBoost': AdaBoostClassifier(random_state=42),\n",
    "    'Logistic Regression': LogisticRegression(max_iter=1000, random_state=42),\n",
    "    'SVC': SVC(random_state=42),\n",
    "    'Decision Tree': DecisionTreeClassifier(random_state=42),\n",
    "    'Naive Bayes': GaussianNB(),\n",
    "    'KNN': KNeighborsClassifier(),\n",
    "    'XGBoost': XGBClassifier(use_label_encoder=False, eval_metric='logloss', random_state=42),\n",
    "    'LightGBM': LGBMClassifier(random_state=42)\n",
    "}"
   ]
  },
  {
   "cell_type": "code",
   "execution_count": null,
   "id": "369d3084",
   "metadata": {},
   "outputs": [],
   "source": [
    "mertics = {\n",
    "    'Model' : [],\n",
    "    'Accuracy': [],\n",
    "    'Precision': [],\n",
    "    'Recall': [],\n",
    "    'F1 Score': []\n",
    "}"
   ]
  },
  {
   "cell_type": "code",
   "execution_count": null,
   "id": "75838008",
   "metadata": {},
   "outputs": [],
   "source": [
    "from model_name, classifier in classifiers.items():\n",
    "    classifier.fit(X_train, y_train)\n",
    "    y_pred = classifier.predict(X_test)\n",
    "    \n",
    "    accuracy = accuracy_score(y_test, y_pred)\n",
    "    precision = precision_score(y_test, y_pred)\n",
    "    recall = recall_score(y_test, y_pred)\n",
    "    f1 = f1_score(y_test, y_pred)\n",
    "    \n",
    "    mertics['Model'].append(model_name)\n",
    "    mertics['Accuracy'].append(accuracy)\n",
    "    mertics['Precision'].append(precision)\n",
    "    mertics['Recall'].append(recall)\n",
    "    mertics['F1 Score'].append(f1)\n"
   ]
  },
  {
   "cell_type": "code",
   "execution_count": null,
   "id": "9a5a7ac8",
   "metadata": {},
   "outputs": [],
   "source": [
    "martics_df = pd.DataFrame(mertics)"
   ]
  },
  {
   "cell_type": "code",
   "execution_count": null,
   "id": "21578eda",
   "metadata": {},
   "outputs": [],
   "source": [
    "martics_df"
   ]
  },
  {
   "cell_type": "code",
   "execution_count": null,
   "id": "08e2113b",
   "metadata": {},
   "outputs": [],
   "source": [
    "### TRAIN ON RF MODEL "
   ]
  },
  {
   "cell_type": "code",
   "execution_count": null,
   "id": "1c401b84",
   "metadata": {},
   "outputs": [],
   "source": [
    "from sklearn.model_selection import RandomizedSearchCV\n",
    "from scipy.stats import randint, uniform"
   ]
  },
  {
   "cell_type": "code",
   "execution_count": null,
   "id": "a3e9efbc",
   "metadata": {},
   "outputs": [],
   "source": [
    "X = df.drop(columns=['booking_status'])\n",
    "y = df['booking_status']"
   ]
  },
  {
   "cell_type": "code",
   "execution_count": null,
   "id": "39bbab64",
   "metadata": {},
   "outputs": [],
   "source": [
    "X_train , X_test , y_train,y_test = train_test_split(X, y, test_size=0.2, random_state=42)"
   ]
  },
  {
   "cell_type": "code",
   "execution_count": null,
   "id": "a701ceea",
   "metadata": {},
   "outputs": [],
   "source": [
    "rf = RandomForestClassifier(random_state=42)"
   ]
  },
  {
   "cell_type": "code",
   "execution_count": null,
   "id": "3a6260f5",
   "metadata": {},
   "outputs": [],
   "source": [
    "params_dist ={\n",
    "    'n_estimators': randint(100, 2000),\n",
    "    'max_depth': randint(10, 50),\n",
    "    'min_samples_split': randint(2, 10),\n",
    "    'min_samples_leaf': randint(1, 5),\n",
    "    'max_features': uniform(0.1, 0.9),\n",
    "    'bootstrap': [True, False]\n",
    "}"
   ]
  },
  {
   "cell_type": "code",
   "execution_count": null,
   "id": "f8cf27a7",
   "metadata": {},
   "outputs": [],
   "source": [
    "random_search = RandomizedSearchCV(\n",
    "    estimator=rf,\n",
    "    param_distributions=params_dist,\n",
    "    n_iter=5,\n",
    "    cv=5,\n",
    "    verbose=2,\n",
    "    random_state=42,\n",
    "    scoreing='accuracy'\n",
    ")"
   ]
  },
  {
   "cell_type": "code",
   "execution_count": null,
   "id": "1331a56a",
   "metadata": {},
   "outputs": [],
   "source": [
    "random_search.fit(X_train, y_train)"
   ]
  },
  {
   "cell_type": "code",
   "execution_count": null,
   "id": "c411e939",
   "metadata": {},
   "outputs": [],
   "source": [
    "random_search.best_params_"
   ]
  },
  {
   "cell_type": "code",
   "execution_count": null,
   "id": "d4ca7722",
   "metadata": {},
   "outputs": [],
   "source": [
    "best_rf_model = random_search.best_estimator_"
   ]
  },
  {
   "cell_type": "code",
   "execution_count": null,
   "id": "a74f2766",
   "metadata": {},
   "outputs": [],
   "source": [
    "y_pred = best_rf_model.predict(X_test)"
   ]
  },
  {
   "cell_type": "code",
   "execution_count": null,
   "id": "3ded94bd",
   "metadata": {},
   "outputs": [],
   "source": [
    "accuracy = accuracy_score(y_test, y_pred)\n",
    "precision = precision_score(y_test, y_pred)\n",
    "recall = recall_score(y_test, y_pred)\n",
    "f1 = f1_score(y_test, y_pred)"
   ]
  },
  {
   "cell_type": "code",
   "execution_count": null,
   "id": "8363eab1",
   "metadata": {},
   "outputs": [],
   "source": [
    "## Save the model"
   ]
  },
  {
   "cell_type": "code",
   "execution_count": null,
   "id": "13f808ff",
   "metadata": {},
   "outputs": [],
   "source": [
    "import joblib"
   ]
  },
  {
   "cell_type": "code",
   "execution_count": null,
   "id": "6377e7dd",
   "metadata": {},
   "outputs": [],
   "source": [
    "joblib.dump(best_rf_model, 'best_rf_model.pkl')"
   ]
  },
  {
   "cell_type": "code",
   "execution_count": null,
   "id": "58e50bca",
   "metadata": {},
   "outputs": [],
   "source": [
    "loaded_model = joblib.load('best_rf_model.pkl')"
   ]
  },
  {
   "cell_type": "code",
   "execution_count": null,
   "id": "c5104568",
   "metadata": {},
   "outputs": [],
   "source": [
    "new_data = np.array([[1, 0, 0, 1, 0, 2, 1, 3, 2023, 5, 15]])  # Example new data"
   ]
  }
 ],
 "metadata": {
  "kernelspec": {
   "display_name": "Hostel",
   "language": "python",
   "name": "python3"
  },
  "language_info": {
   "codemirror_mode": {
    "name": "ipython",
    "version": 3
   },
   "file_extension": ".py",
   "mimetype": "text/x-python",
   "name": "python",
   "nbconvert_exporter": "python",
   "pygments_lexer": "ipython3",
   "version": "3.11.7"
  }
 },
 "nbformat": 4,
 "nbformat_minor": 5
}
